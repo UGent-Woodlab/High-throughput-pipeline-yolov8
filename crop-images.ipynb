{
 "cells": [
  {
   "cell_type": "code",
   "execution_count": 2,
   "id": "dd19fe27",
   "metadata": {},
   "outputs": [
    {
     "name": "stdout",
     "output_type": "stream",
     "text": [
      "Sub-images have been generated and saved.\n"
     ]
    }
   ],
   "source": [
    "from PIL import Image\n",
    "import os\n",
    "\n",
    "# Define the input and output folders\n",
    "input_folder = \"D:\\\\Users\\\\labo\\\\Downloads\\\\extre anottaie beelden\"\n",
    "output_folder = \"D:\\\\Users\\\\labo\\\\Downloads\\\\extre anottaie beelden\\\\cropped\"\n",
    "\n",
    "# Define the size of the sub-images\n",
    "sub_image_size = (640, 640)\n",
    "\n",
    "# Create the output folder if it doesn't exist\n",
    "os.makedirs(output_folder, exist_ok=True)\n",
    "\n",
    "# List all image files in the input folder\n",
    "image_files = [f for f in os.listdir(input_folder) if f.endswith(('.jpg', '.jpeg', '.png', '.gif', '.tif', '.tiff'))]\n",
    "\n",
    "# Process each image\n",
    "for image_file in image_files:\n",
    "    image_path = os.path.join(input_folder, image_file)\n",
    "    img = Image.open(image_path)\n",
    "    \n",
    "    # Convert image to RGB mode if necessary\n",
    "    if img.mode != 'RGB':\n",
    "        img = img.convert('RGB')\n",
    "\n",
    "    # Get the dimensions of the original image\n",
    "    width, height = img.size\n",
    "\n",
    "    # Calculate the number of sub-images in the X and Y directions\n",
    "    num_x_subimages = width // sub_image_size[0]\n",
    "    num_y_subimages = height // sub_image_size[1]\n",
    "\n",
    "    if num_x_subimages == 1 and num_y_subimages == 1:\n",
    "        # Crop from the middle of the image\n",
    "        left = (width - sub_image_size[0]) // 2\n",
    "        upper = (height - sub_image_size[1]) // 2\n",
    "        right = left + sub_image_size[0]\n",
    "        lower = upper + sub_image_size[1]\n",
    "\n",
    "        # Crop the sub-image\n",
    "        sub_image = img.crop((left, upper, right, lower))\n",
    "\n",
    "        # Construct the output filename\n",
    "        output_file = os.path.splitext(image_file)[0] + \"_middle.jpg\"\n",
    "        output_path = os.path.join(output_folder, output_file)\n",
    "\n",
    "        # Save the sub-image\n",
    "        sub_image.save(output_path, quality=95)\n",
    "    else:\n",
    "        for i in range(num_x_subimages):\n",
    "            for j in range(num_y_subimages):\n",
    "                # Calculate the coordinates for cropping\n",
    "                left = i * sub_image_size[0]\n",
    "                upper = j * sub_image_size[1]\n",
    "                right = left + sub_image_size[0]\n",
    "                lower = upper + sub_image_size[1]\n",
    "\n",
    "                # Crop the sub-image\n",
    "                sub_image = img.crop((left, upper, right, lower))\n",
    "\n",
    "                # Construct the output filename\n",
    "                output_file = os.path.splitext(image_file)[0] + f\"_{i * num_y_subimages + j + 1}.jpg\"\n",
    "                output_path = os.path.join(output_folder, output_file)\n",
    "\n",
    "                # Save the sub-image\n",
    "                sub_image.save(output_path, quality=95)\n",
    "\n",
    "print(\"Sub-images have been generated and saved.\")"
   ]
  },
  {
   "cell_type": "code",
   "execution_count": null,
   "id": "bfaa0b5a",
   "metadata": {},
   "outputs": [],
   "source": []
  },
  {
   "cell_type": "code",
   "execution_count": null,
   "id": "5808245c",
   "metadata": {},
   "outputs": [],
   "source": []
  }
 ],
 "metadata": {
  "kernelspec": {
   "display_name": "Python 3 (ipykernel)",
   "language": "python",
   "name": "python3"
  },
  "language_info": {
   "codemirror_mode": {
    "name": "ipython",
    "version": 3
   },
   "file_extension": ".py",
   "mimetype": "text/x-python",
   "name": "python",
   "nbconvert_exporter": "python",
   "pygments_lexer": "ipython3",
   "version": "3.11.5"
  }
 },
 "nbformat": 4,
 "nbformat_minor": 5
}
